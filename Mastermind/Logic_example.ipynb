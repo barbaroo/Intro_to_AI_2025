{
  "nbformat": 4,
  "nbformat_minor": 0,
  "metadata": {
    "colab": {
      "provenance": []
    },
    "kernelspec": {
      "name": "python3",
      "display_name": "Python 3"
    },
    "language_info": {
      "name": "python"
    }
  },
  "cells": [
    {
      "cell_type": "markdown",
      "source": [
        "Examples of usage of the logic library"
      ],
      "metadata": {
        "id": "AMafi3ShjHFh"
      }
    },
    {
      "cell_type": "markdown",
      "source": [
        "Define symbols"
      ],
      "metadata": {
        "id": "geu5SXbfjmPh"
      }
    },
    {
      "cell_type": "code",
      "source": [
        "from logic import *\n",
        "\n",
        "\n",
        "# define symbols\n",
        "Rain = Symbol(\"Rain\")\n",
        "Wet = Symbol(\"Wet\")"
      ],
      "metadata": {
        "id": "WBV5dGdzjExJ"
      },
      "execution_count": null,
      "outputs": []
    },
    {
      "cell_type": "markdown",
      "source": [
        "Use operators and define models: assign truth values to symbols. Every sentence has an evaluate() method to evaluate truth value of a sentence"
      ],
      "metadata": {
        "id": "lBnZiebujoIY"
      }
    },
    {
      "cell_type": "code",
      "source": [
        "# build a sentence\n",
        "phi = Implication(Rain, Wet)   # A ∧ ¬B\n",
        "\n",
        "# define a model (truth assignment)\n",
        "model1 = {\"Rain\": True, \"Wet\": False}\n",
        "model2 = {\"Rain\": True, \"Wet\": True}\n",
        "\n",
        "# evaluate sentence under each model\n",
        "print(phi.formula(), \"with model1:\", phi.evaluate(model1))  # True ∧ ¬False = True\n",
        "print(phi.formula(), \"with model2:\", phi.evaluate(model2))  # False ∧ ¬False = False\n"
      ],
      "metadata": {
        "colab": {
          "base_uri": "https://localhost:8080/"
        },
        "id": "U6G1BNT7hgA4",
        "outputId": "1525bcdf-3ef9-4c01-8417-55b6aff327f9"
      },
      "execution_count": 7,
      "outputs": [
        {
          "output_type": "stream",
          "name": "stdout",
          "text": [
            "Rain => Wet with model1: False\n",
            "Rain => Wet with model2: True\n"
          ]
        }
      ]
    },
    {
      "cell_type": "markdown",
      "source": [
        "Define a knowledge base and a query. Use model checking to verify if the KB entails the query."
      ],
      "metadata": {
        "id": "Yn2iBy5nj3wA"
      }
    },
    {
      "cell_type": "code",
      "execution_count": 1,
      "metadata": {
        "colab": {
          "base_uri": "https://localhost:8080/"
        },
        "id": "8HrHWZHIgzRd",
        "outputId": "005dec5d-74bb-4102-dcf7-c5e5cc432590"
      },
      "outputs": [
        {
          "output_type": "stream",
          "name": "stdout",
          "text": [
            "Knowledge base: (Rain => Wet) ∧ Rain\n",
            "Query: Wet\n",
            "Does KB entail Query? True\n"
          ]
        }
      ],
      "source": [
        "# knowledge base = (Rain => Wet) ∧ Rain\n",
        "kb = And(\n",
        "    Implication(Rain, Wet),\n",
        "    Rain\n",
        ")\n",
        "\n",
        "# query = Wet\n",
        "query = Wet\n",
        "\n",
        "# pretty print\n",
        "print(\"Knowledge base:\", kb.formula())\n",
        "print(\"Query:\", query.formula())\n",
        "\n",
        "# check entailment\n",
        "result = model_check(kb, query)\n",
        "print(\"Does KB entail Query?\", result)\n"
      ]
    },
    {
      "cell_type": "code",
      "source": [
        "query.symbols()"
      ],
      "metadata": {
        "colab": {
          "base_uri": "https://localhost:8080/"
        },
        "id": "96lysWJyjg3L",
        "outputId": "6d7a22ab-e7db-4b6d-b701-e5cb0347c30f"
      },
      "execution_count": 8,
      "outputs": [
        {
          "output_type": "execute_result",
          "data": {
            "text/plain": [
              "{'Wet'}"
            ]
          },
          "metadata": {},
          "execution_count": 8
        }
      ]
    },
    {
      "cell_type": "code",
      "source": [
        "kb.formula()"
      ],
      "metadata": {
        "colab": {
          "base_uri": "https://localhost:8080/",
          "height": 35
        },
        "id": "FirjsAiyhDXH",
        "outputId": "66240740-5b42-420b-ac2f-38f2d9187d50"
      },
      "execution_count": 3,
      "outputs": [
        {
          "output_type": "execute_result",
          "data": {
            "text/plain": [
              "'(Rain => Wet) ∧ Rain'"
            ],
            "application/vnd.google.colaboratory.intrinsic+json": {
              "type": "string"
            }
          },
          "metadata": {},
          "execution_count": 3
        }
      ]
    }
  ]
}